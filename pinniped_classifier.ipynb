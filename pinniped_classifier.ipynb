{
 "cells": [
  {
   "cell_type": "code",
   "execution_count": null,
   "metadata": {},
   "outputs": [],
   "source": [
    "from fastai.vision.widgets import *\n",
    "from fastai.vision.core import *\n",
    "from fastai.learner import *"
   ]
  },
  {
   "cell_type": "code",
   "execution_count": null,
   "metadata": {},
   "outputs": [],
   "source": [
    "learn_inf = load_learner('pinniped.pkl')"
   ]
  },
  {
   "cell_type": "code",
   "execution_count": null,
   "metadata": {},
   "outputs": [],
   "source": [
    "btn_upload = widgets.FileUpload()\n",
    "btn_classify = widgets.Button(description = 'Classify')\n",
    "out_image = widgets.Output()\n",
    "lbl_preds = widgets.Label()"
   ]
  },
  {
   "cell_type": "code",
   "execution_count": null,
   "metadata": {},
   "outputs": [],
   "source": [
    "def click_classify(change):\n",
    "    img = PILImage.create(btn_upload.data[-1])\n",
    "    out_image.clear_output()\n",
    "    with out_image: display(img.to_thumb(128, 128))\n",
    "    pred, pred_idx, probs = learn_inf.predict(img)\n",
    "    lbl_preds.value = f'Prediction: {pred}; Probability: {probs[pred_idx]:.04f}'\n",
    "    \n",
    "btn_classify.on_click(click_classify)"
   ]
  },
  {
   "cell_type": "markdown",
   "metadata": {},
   "source": [
    "<h1>Is that a seal or a sea lion?</h1>\n",
    "<p>I love the ocean and always enjoy spending my days looking at the wildlife. A question that I \n",
    "    regularly come across is whether or not an animal a seal or a sea lion.\n",
    "    For my first FastAI project, I thought I'd try to see how difficult it is to distinguish between \n",
    "    different types of pinnipeds (the scientific order Pinnipedia that seals and sea lions belong to) \n",
    "    using fastai's transfer learning models.</p>\n",
    "<p>Please upload an image and the fastai model will predit whether the creature is an earless seal,\n",
    "    fur seal, or sea lion.</p>"
   ]
  },
  {
   "cell_type": "code",
   "execution_count": null,
   "metadata": {},
   "outputs": [],
   "source": [
    "VBox([widgets.Label('Select your pinniped!'),\n",
    "      btn_upload, btn_classify, out_image, lbl_preds])"
   ]
  }
 ],
 "metadata": {
  "kernelspec": {
   "display_name": "Python 3",
   "language": "python",
   "name": "python3"
  },
  "language_info": {
   "codemirror_mode": {
    "name": "ipython",
    "version": 3
   },
   "file_extension": ".py",
   "mimetype": "text/x-python",
   "name": "python",
   "nbconvert_exporter": "python",
   "pygments_lexer": "ipython3",
   "version": "3.8.5"
  }
 },
 "nbformat": 4,
 "nbformat_minor": 4
}
